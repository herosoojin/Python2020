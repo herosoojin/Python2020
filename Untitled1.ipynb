{
  "nbformat": 4,
  "nbformat_minor": 0,
  "metadata": {
    "colab": {
      "name": "Untitled1.ipynb",
      "provenance": [],
      "authorship_tag": "ABX9TyPKjluGZfiAh3Q5Cxt/Pro7",
      "include_colab_link": true
    },
    "kernelspec": {
      "name": "python3",
      "display_name": "Python 3"
    }
  },
  "cells": [
    {
      "cell_type": "markdown",
      "metadata": {
        "id": "view-in-github",
        "colab_type": "text"
      },
      "source": [
        "<a href=\"https://colab.research.google.com/github/herosoojin/Python2020/blob/master/Untitled1.ipynb\" target=\"_parent\"><img src=\"https://colab.research.google.com/assets/colab-badge.svg\" alt=\"Open In Colab\"/></a>"
      ]
    },
    {
      "cell_type": "code",
      "metadata": {
        "id": "OgxZgrjrKixT",
        "colab_type": "code",
        "colab": {}
      },
      "source": [
        "[1] Write a function that returns the sum of two numbers."
      ],
      "execution_count": 0,
      "outputs": []
    },
    {
      "cell_type": "markdown",
      "metadata": {
        "id": "bRgX9690Kjyv",
        "colab_type": "text"
      },
      "source": [
        ""
      ]
    },
    {
      "cell_type": "code",
      "metadata": {
        "id": "7G7064UWNiPQ",
        "colab_type": "code",
        "colab": {}
      },
      "source": [
        "def add(param1, param2):\n",
        "  return param1 + param2\n",
        "\n"
      ],
      "execution_count": 0,
      "outputs": []
    }
  ]
}